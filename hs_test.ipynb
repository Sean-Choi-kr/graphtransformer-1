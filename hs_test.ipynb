{
 "cells": [
  {
   "cell_type": "code",
   "execution_count": 1,
   "metadata": {},
   "outputs": [
    {
     "name": "stderr",
     "output_type": "stream",
     "text": [
      "Using backend: pytorch\n"
     ]
    },
    {
     "name": "stdout",
     "output_type": "stream",
     "text": [
      "1.6.0\n",
      "10.2\n"
     ]
    }
   ],
   "source": [
    "import torch\n",
    "\n",
    "from layers.graph_transformer_edge_layer import MultiHeadAttentionLayer\n",
    "print(torch.__version__)\n",
    "print(torch.version.cuda)\n",
    "import dgl\n",
    "\n"
   ]
  },
  {
   "cell_type": "code",
   "execution_count": 54,
   "metadata": {},
   "outputs": [],
   "source": [
    "# Step 2: Create a sample graph\n",
    "src_nodes = torch.tensor([0, 1, 2])\n",
    "dst_nodes = torch.tensor([1, 2, 3])\n",
    "g = dgl.graph((src_nodes, dst_nodes))\n",
    "\n",
    "# Step 3: Define input node and edge features\n",
    "num_nodes = g.num_nodes()\n",
    "num_edges = g.num_edges()\n",
    "in_dim = 4\n",
    "out_dim = 1\n",
    "num_heads = 2\n",
    "use_bias = True\n",
    "\n",
    "node_features = torch.rand((num_nodes, in_dim))  # Random node features\n",
    "edge_features = torch.rand((num_edges, in_dim))  # Random edge features\n",
    "\n",
    "g.ndata['Q'] = torch.tensor([[1],[2],[3],[4]])\n",
    "g.ndata['K'] = torch.tensor([[100],[200],[300],[400]])\n"
   ]
  },
  {
   "cell_type": "code",
   "execution_count": 64,
   "metadata": {},
   "outputs": [
    {
     "data": {
      "text/plain": [
       "torch.Size([4, 1])"
      ]
     },
     "execution_count": 64,
     "metadata": {},
     "output_type": "execute_result"
    }
   ],
   "source": []
  },
  {
   "cell_type": "code",
   "execution_count": 63,
   "metadata": {},
   "outputs": [
    {
     "name": "stdout",
     "output_type": "stream",
     "text": [
      "tensor([ 200,  600, 1200])\n"
     ]
    }
   ],
   "source": [
    "def src_dot_dst(src_field, dst_field, out_field):\n",
    "    def func(edges):\n",
    "        print((edges.src[src_field] * edges.dst[dst_field]).sum(-1))\n",
    "        return {out_field: (edges.src[src_field] * edges.dst[dst_field]).sum(-1, keepdim=True)}\n",
    "    return func\n",
    "g.apply_edges(src_dot_dst('Q', 'K', 'Out'))"
   ]
  },
  {
   "cell_type": "code",
   "execution_count": 63,
   "metadata": {},
   "outputs": [
    {
     "name": "stdout",
     "output_type": "stream",
     "text": [
      "Output Node Features (h_out):\n",
      "tensor([[[ 0.0000],\n",
      "         [ 0.0000]],\n",
      "\n",
      "        [[ 0.3369],\n",
      "         [-0.4612]],\n",
      "\n",
      "        [[ 0.2504],\n",
      "         [-0.3839]],\n",
      "\n",
      "        [[ 0.3835],\n",
      "         [ 0.0638]]], grad_fn=<DivBackward0>)\n",
      "\n",
      "Output Edge Features (e_out):\n",
      "tensor([[[0.3323],\n",
      "         [0.0359]],\n",
      "\n",
      "        [[0.1370],\n",
      "         [0.0285]],\n",
      "\n",
      "        [[0.2942],\n",
      "         [0.0137]]], grad_fn=<MulBackward0>)\n"
     ]
    }
   ],
   "source": [
    "multihead_layer = MultiHeadAttentionLayer(in_dim=in_dim, out_dim=out_dim, num_heads=num_heads, use_bias=use_bias)\n",
    "h_out, e_out = multihead_layer(g, node_features, edge_features)\n",
    "\n",
    "\n",
    "print(\"Output Node Features (h_out):\")\n",
    "print(h_out)\n",
    "print(\"\\nOutput Edge Features (e_out):\")\n",
    "print(e_out)"
   ]
  }
 ],
 "metadata": {
  "kernelspec": {
   "display_name": "ai",
   "language": "python",
   "name": "python3"
  },
  "language_info": {
   "codemirror_mode": {
    "name": "ipython",
    "version": 3
   },
   "file_extension": ".py",
   "mimetype": "text/x-python",
   "name": "python",
   "nbconvert_exporter": "python",
   "pygments_lexer": "ipython3",
   "version": "3.7.4"
  }
 },
 "nbformat": 4,
 "nbformat_minor": 2
}
